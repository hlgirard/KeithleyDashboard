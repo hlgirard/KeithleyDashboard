{
 "cells": [
  {
   "cell_type": "markdown",
   "metadata": {},
   "source": [
    "## Single measurement\n",
    "\n",
    "Frequency seems limited by the Prologix controller.\n",
    "Currently can't do better than 1 meas. / 3 seconds\n",
    "\n",
    "This might be due to the Prologix's `read_tmo_ms` property that was set as 3000 ms.\n",
    "\n",
    "TODO\n",
    "- Check Prologix tmo, \"++read_tmo_ms\"\n",
    "- Set it to 500ms (?) sourcemeter.write(\"++read_tmo_ms 500\") \n",
    "- Check read speed capabilities"
   ]
  },
  {
   "cell_type": "code",
   "execution_count": 1,
   "metadata": {},
   "outputs": [],
   "source": [
    "import pymeasure\n",
    "from pymeasure.adapters import PrologixAdapter\n",
    "from pymeasure.instruments.keithley import Keithley2400\n",
    "import logging\n",
    "import sys\n",
    "import time\n",
    "\n",
    "import numpy as np\n",
    "import pandas as pd\n",
    "\n",
    "from time import sleep"
   ]
  },
  {
   "cell_type": "code",
   "execution_count": 2,
   "metadata": {},
   "outputs": [],
   "source": [
    "ProAdapter = PrologixAdapter('/dev/tty.usbserial-PXFDLVOK', address = 24, rw_delay = 0.1)"
   ]
  },
  {
   "cell_type": "code",
   "execution_count": null,
   "metadata": {},
   "outputs": [],
   "source": [
    "sourcemeter = Keithley2400(ProAdapter)\n",
    "keithlogger = logging.getLogger('pymeasure.instruments.keithley.keithley2400')\n",
    "keithlogger.setLevel(logging.INFO)\n",
    "keithlogger.addHandler(logging.StreamHandler(sys.stdout))"
   ]
  },
  {
   "cell_type": "code",
   "execution_count": 80,
   "metadata": {},
   "outputs": [
    {
     "data": {
      "text/plain": [
       "'KEITHLEY INSTRUMENTS INC.,MODEL 2400,1293432,C30   Mar 17 2006 09:29:29/A02  /K/J'"
      ]
     },
     "execution_count": 80,
     "metadata": {},
     "output_type": "execute_result"
    }
   ],
   "source": [
    "sourcemeter.id"
   ]
  },
  {
   "cell_type": "code",
   "execution_count": 81,
   "metadata": {},
   "outputs": [],
   "source": [
    "sourcemeter.reset()"
   ]
  },
  {
   "cell_type": "code",
   "execution_count": 6,
   "metadata": {},
   "outputs": [],
   "source": [
    "sourcemeter.apply_voltage(20, 0.1)\n",
    "sourcemeter.measure_current(nplc=0.1, current=0.1, auto_range=False)\n",
    "sourcemeter.source_voltage = 2\n",
    "sourcemeter.sample_continuously()"
   ]
  },
  {
   "cell_type": "code",
   "execution_count": 82,
   "metadata": {},
   "outputs": [],
   "source": [
    "sourcemeter.enable_source()"
   ]
  },
  {
   "cell_type": "code",
   "execution_count": null,
   "metadata": {},
   "outputs": [],
   "source": [
    "for i in range(5):\n",
    "    print(sourcemeter.current) # Maximum probing speed is 1 meas / 3s\n",
    "    sleep(2)"
   ]
  },
  {
   "cell_type": "code",
   "execution_count": 61,
   "metadata": {},
   "outputs": [
    {
     "data": {
      "text/plain": [
       "-1.954063e-09"
      ]
     },
     "execution_count": 61,
     "metadata": {},
     "output_type": "execute_result"
    }
   ],
   "source": []
  },
  {
   "cell_type": "code",
   "execution_count": 83,
   "metadata": {},
   "outputs": [],
   "source": [
    "sourcemeter.disable_source()"
   ]
  },
  {
   "cell_type": "markdown",
   "metadata": {},
   "source": [
    "## Buffer use"
   ]
  },
  {
   "cell_type": "code",
   "execution_count": 6,
   "metadata": {},
   "outputs": [
    {
     "name": "stdout",
     "output_type": "stream",
     "text": [
      "Keithley 2400 SourceMeter is sourcing voltage.\n",
      "Keithley 2400 SourceMeter is sourcing voltage.\n",
      "Keithley 2400 SourceMeter is sourcing voltage.\n",
      "Keithley 2400 SourceMeter is measuring current.\n",
      "Keithley 2400 SourceMeter is measuring current.\n",
      "Keithley 2400 SourceMeter is measuring current.\n"
     ]
    }
   ],
   "source": [
    "import pymeasure\n",
    "from pymeasure.adapters import PrologixAdapter\n",
    "from pymeasure.instruments.keithley import Keithley2400\n",
    "import logging\n",
    "import sys\n",
    "from time import sleep\n",
    "\n",
    "pause = 2\n",
    "\n",
    "ProAdapter = PrologixAdapter('/dev/tty.usbserial-PXFDLVOK', address = 24, rw_delay = 0.1)\n",
    "\n",
    "sourcemeter = Keithley2400(ProAdapter)\n",
    "keithlogger = logging.getLogger('pymeasure.instruments.keithley.keithley2400')\n",
    "keithlogger.setLevel(logging.INFO)\n",
    "keithlogger.addHandler(logging.StreamHandler(sys.stdout))\n",
    "\n",
    "sourcemeter.id\n",
    "sleep(pause)\n",
    "sourcemeter.reset()\n",
    "sleep(pause)\n",
    "sourcemeter.apply_voltage(20, 0.1)\n",
    "sleep(pause)\n",
    "sourcemeter.measure_current(nplc=0.1, current=0.1, auto_range=False)\n",
    "sleep(pause)\n",
    "sourcemeter.source_voltage = 2\n",
    "sleep(pause)\n",
    "sourcemeter.enable_source()\n",
    "sleep(pause)"
   ]
  },
  {
   "cell_type": "code",
   "execution_count": 7,
   "metadata": {},
   "outputs": [],
   "source": [
    "sourcemeter.source_voltage = 5"
   ]
  },
  {
   "cell_type": "code",
   "execution_count": 8,
   "metadata": {},
   "outputs": [],
   "source": [
    "sourcemeter.enable_source()\n",
    "#sourcemeter.disable_source()"
   ]
  },
  {
   "cell_type": "code",
   "execution_count": 2,
   "metadata": {},
   "outputs": [],
   "source": [
    "n_points = 500\n",
    "t_interval = 0.1 # s\n",
    "sourcemeter.config_buffer(points = n_points, delay = t_interval)"
   ]
  },
  {
   "cell_type": "code",
   "execution_count": 3,
   "metadata": {},
   "outputs": [],
   "source": [
    "sourcemeter.start_buffer()"
   ]
  },
  {
   "cell_type": "code",
   "execution_count": 4,
   "metadata": {},
   "outputs": [
    {
     "data": {
      "text/plain": [
       "array([ 1.823004e-09,  3.540923e-10, -2.707110e-09,  3.513037e-09,\n",
       "       -7.434074e-10, -1.525531e-09,  4.128512e-09, -2.259743e-09,\n",
       "       -8.641685e-10,  2.681018e-09, -3.865240e-09,  6.927627e-11,\n",
       "        1.169304e-09, -4.546483e-09,  1.554998e-09,  4.998073e-10,\n",
       "       -3.314965e-09,  3.133974e-09, -4.427880e-10, -1.644242e-09,\n",
       "        4.136182e-09, -1.902058e-09, -1.004283e-09,  3.077408e-09,\n",
       "       -3.550899e-09, -1.075240e-10,  1.196306e-09, -4.543419e-09,\n",
       "        1.396543e-09,  4.972597e-10, -3.350634e-09,  3.177789e-09,\n",
       "       -4.677576e-10, -1.659529e-09,  4.155017e-09, -2.112492e-09,\n",
       "       -9.202102e-10,  2.820609e-09, -3.699156e-09,  6.621910e-11,\n",
       "        1.134650e-09, -4.546458e-09,  1.417937e-09,  5.074503e-10,\n",
       "       -3.326169e-09,  3.113066e-09, -4.473731e-10, -1.627933e-09,\n",
       "        4.159606e-09, -2.032511e-09, -9.721807e-10,  2.915907e-09,\n",
       "       -3.651244e-09, -5.622169e-12,  1.168287e-09, -4.539856e-09,\n",
       "        1.569778e-09,  4.712790e-10, -3.176370e-09,  3.252164e-09,\n",
       "       -5.574322e-10, -1.594316e-09,  4.163671e-09, -2.180771e-09,\n",
       "       -9.553700e-10,  2.868522e-09, -3.635449e-09, -3.211623e-11,\n",
       "        1.232989e-09, -4.542920e-09,  1.323169e-09,  5.370017e-10,\n",
       "       -3.387320e-09,  3.091168e-09, -3.908194e-10, -1.669209e-09,\n",
       "        4.168268e-09, -1.936190e-09, -9.874641e-10,  2.912828e-09,\n",
       "       -3.672134e-09, -5.112598e-12,  1.190700e-09, -4.546451e-09,\n",
       "        1.656390e-09,  4.427435e-10, -3.073971e-09,  3.423330e-09,\n",
       "       -6.506757e-10, -1.552534e-09,  4.134606e-09, -2.360621e-09,\n",
       "       -7.749966e-10,  2.362569e-09, -3.983958e-09,  2.430189e-10,\n",
       "        1.060267e-09, -4.491975e-09,  1.886681e-09,  2.781762e-10,\n",
       "       -2.625578e-09,  3.590455e-09, -7.693930e-10, -1.509719e-09,\n",
       "        4.115771e-09, -2.334637e-09, -8.631463e-10,  2.544966e-09,\n",
       "       -3.829582e-09,  1.202262e-10,  1.084725e-09, -4.497580e-09,\n",
       "        1.821983e-09,  3.703984e-10, -2.789143e-09,  3.480944e-09,\n",
       "       -6.246910e-10, -1.555083e-09,  4.165207e-09, -2.157834e-09,\n",
       "       -9.181707e-10,  2.758454e-09, -3.786767e-09,  5.653808e-11,\n",
       "        1.169304e-09, -4.541901e-09,  1.628365e-09,  4.345952e-10,\n",
       "       -3.104028e-09,  3.343374e-09, -5.462227e-10, -1.595327e-09,\n",
       "        4.172333e-09, -2.140517e-09, -9.737114e-10,  2.837937e-09,\n",
       "       -3.680813e-09, -1.785025e-11,  1.199869e-09, -4.547000e-09,\n",
       "        1.291581e-09,  5.400623e-10, -3.417894e-09,  3.099824e-09,\n",
       "       -3.199944e-10, -1.770594e-09,  4.134633e-09, -1.629972e-09,\n",
       "       -1.157651e-09,  3.317403e-09, -3.346566e-09, -2.629276e-10,\n",
       "        1.439846e-09, -4.503673e-09,  1.238599e-09,  6.389034e-10,\n",
       "       -3.394448e-09,  3.182367e-09, -4.850814e-10, -1.615203e-09,\n",
       "        4.169810e-09, -2.021803e-09, -9.568965e-10,  2.835380e-09,\n",
       "       -3.649203e-09, -5.621240e-12,  1.142300e-09, -4.539339e-09,\n",
       "        1.535638e-09,  4.534444e-10, -3.190127e-09,  3.251156e-09,\n",
       "       -5.314488e-10, -1.581575e-09,  4.148383e-09, -2.202678e-09,\n",
       "       -8.692612e-10,  2.608147e-09, -3.797980e-09,  1.217550e-10,\n",
       "        1.119877e-09, -4.522030e-09,  1.539713e-09,  4.289897e-10,\n",
       "       -3.142751e-09,  3.270514e-09, -5.666037e-10, -1.561178e-09,\n",
       "        4.170298e-09, -2.191488e-09, -8.850526e-10,  2.661657e-09,\n",
       "       -3.754215e-09,  4.991436e-11,  1.130585e-09, -4.535773e-09,\n",
       "        1.557039e-09,  4.208364e-10, -3.097409e-09,  3.325549e-09,\n",
       "       -5.676227e-10, -1.579529e-09,  4.164181e-09, -2.137468e-09,\n",
       "       -9.202115e-10,  2.684578e-09, -3.694073e-09,  9.322307e-11,\n",
       "        1.115802e-09, -4.492460e-09,  1.653841e-09,  3.968887e-10,\n",
       "       -3.077018e-09,  3.336233e-09, -5.253341e-10, -1.558134e-09,\n",
       "        4.155499e-09, -2.135418e-09, -8.926986e-10,  2.712605e-09,\n",
       "       -3.704761e-09, -2.141641e-11,  1.139239e-09, -4.502661e-09,\n",
       "        1.482650e-09,  4.814678e-10, -3.166706e-09,  3.312804e-09,\n",
       "       -6.226498e-10, -1.559662e-09,  4.105088e-09, -2.297448e-09,\n",
       "       -8.254422e-10,  2.481284e-09, -3.903982e-09,  1.961429e-10,\n",
       "        1.085232e-09, -4.526117e-09,  1.618172e-09,  4.065689e-10,\n",
       "       -3.122358e-09,  3.268983e-09, -5.880031e-10, -1.532152e-09,\n",
       "        4.152965e-09, -2.269941e-09, -8.835253e-10,  2.634134e-09,\n",
       "       -3.794947e-09,  1.757633e-10,  1.084730e-09, -4.494006e-09,\n",
       "        1.873953e-09,  3.484855e-10, -2.859454e-09,  3.418280e-09,\n",
       "       -7.036662e-10, -1.539790e-09,  4.146885e-09, -2.141028e-09,\n",
       "       -8.616140e-10,  2.669793e-09, -3.740431e-09, -1.173568e-11,\n",
       "        1.150457e-09, -4.535288e-09,  1.388390e-09,  5.879544e-10,\n",
       "       -3.398025e-09,  3.146189e-09, -3.092946e-10, -1.762961e-09,\n",
       "        4.095397e-09, -1.790481e-09, -1.090897e-09,  3.294976e-09,\n",
       "       -3.398532e-09, -1.834426e-10,  1.472965e-09, -4.401287e-09,\n",
       "        8.880560e-10,  7.525280e-10, -3.806154e-09,  2.764571e-09,\n",
       "       -1.059955e-10, -1.889835e-09,  4.026641e-09, -1.463874e-09,\n",
       "       -1.199434e-09,  3.466678e-09, -3.279803e-09, -2.206388e-10,\n",
       "        1.390431e-09, -4.478214e-09,  1.212609e-09,  6.129214e-10,\n",
       "       -3.488194e-09,  3.032559e-09, -3.699275e-10, -1.728824e-09,\n",
       "        4.088258e-09, -1.746151e-09, -1.066449e-09,  3.034612e-09,\n",
       "       -3.575345e-09, -1.326422e-11,  1.140263e-09, -4.524599e-09,\n",
       "        1.598816e-09,  4.264418e-10, -3.056633e-09,  3.316877e-09,\n",
       "       -5.375579e-10, -1.559150e-09,  4.167259e-09, -2.117084e-09,\n",
       "       -8.799612e-10,  2.595407e-09, -3.831111e-09,  2.068423e-10,\n",
       "        1.081666e-09, -4.450194e-09,  2.020182e-09,  1.930861e-10,\n",
       "       -2.499726e-09,  3.753528e-09, -1.028227e-09, -1.383367e-09,\n",
       "        3.905371e-09, -2.845702e-09, -5.502971e-10,  1.954963e-09,\n",
       "       -4.282541e-09,  5.864242e-10,  9.828245e-10, -4.328404e-09,\n",
       "        2.345751e-09,  3.819632e-11, -2.171601e-09,  3.910969e-09,\n",
       "       -1.277385e-09, -1.321201e-09,  3.773392e-09, -2.976645e-09,\n",
       "       -4.652078e-10,  1.741478e-09, -4.345208e-09,  9.227000e-10,\n",
       "        8.284412e-10, -3.979885e-09,  2.623435e-09, -1.146573e-10,\n",
       "       -1.959632e-09,  4.019478e-09, -1.463873e-09, -1.158666e-09,\n",
       "        3.403476e-09, -3.338920e-09, -1.768188e-10,  1.345086e-09,\n",
       "       -4.490945e-09,  1.293113e-09,  6.618354e-10, -3.555975e-09,\n",
       "        3.057030e-09, -3.918372e-10, -1.670234e-09,  4.164725e-09,\n",
       "       -1.956584e-09, -9.548612e-10,  2.626501e-09, -3.829582e-09,\n",
       "        7.437070e-11,  1.116311e-09, -4.505205e-09,  1.791405e-09,\n",
       "        3.861887e-10, -2.940969e-09,  3.539528e-09, -7.862061e-10,\n",
       "       -1.498002e-09,  4.060761e-09, -2.443680e-09, -7.342371e-10,\n",
       "        2.320786e-09, -3.969698e-09,  3.138390e-10,  1.047529e-09,\n",
       "       -4.432364e-09,  2.052284e-09,  2.919300e-10, -2.628629e-09,\n",
       "        3.644996e-09, -9.217435e-10, -1.422601e-09,  3.979766e-09,\n",
       "       -2.746852e-09, -5.594715e-10,  1.897906e-09, -4.291236e-09,\n",
       "        6.735504e-10,  9.069069e-10, -4.206109e-09,  2.500134e-09,\n",
       "        4.583864e-11, -2.185363e-09,  3.922165e-09, -1.337505e-09,\n",
       "       -1.274830e-09,  3.669465e-09, -3.131537e-09, -4.040642e-10,\n",
       "        1.593210e-09, -4.441002e-09,  1.078612e-09,  7.132926e-10,\n",
       "       -3.726659e-09,  2.934232e-09, -2.878947e-10, -1.760927e-09,\n",
       "        4.094884e-09, -1.708954e-09, -1.100072e-09,  3.205804e-09,\n",
       "       -3.438258e-09, -1.192430e-10,  1.256939e-09, -4.500619e-09,\n",
       "        1.469909e-09,  5.273240e-10, -3.240060e-09,  3.292442e-09,\n",
       "       -5.594703e-10, -1.539795e-09,  4.120373e-09, -2.319372e-09,\n",
       "       -8.111744e-10,  2.447151e-09, -3.925375e-09,  2.975364e-10,\n",
       "        1.024599e-09, -4.381422e-09,  2.164371e-09,  1.385679e-10,\n",
       "       -2.281668e-09,  3.900230e-09, -1.219299e-09, -1.305920e-09,\n",
       "        3.689327e-09, -2.957281e-09, -4.417712e-10,  1.614107e-09,\n",
       "       -4.405831e-09,  9.909810e-10,  7.275542e-10, -3.710872e-09,\n",
       "        2.925570e-09, -2.797427e-10, -1.698760e-09,  4.154507e-09,\n",
       "       -1.882185e-09, -1.033830e-09,  2.878186e-09, -3.638503e-09,\n",
       "       -2.447331e-11,  1.156050e-09, -4.502133e-09,  1.556020e-09,\n",
       "        4.819778e-10, -3.012302e-09,  3.403997e-09, -7.648094e-10,\n",
       "       -1.528068e-09,  4.120876e-09, -2.381526e-09, -8.157548e-10,\n",
       "        2.303459e-09, -4.028299e-09,  2.695122e-10,  1.032245e-09,\n",
       "       -4.437969e-09,  2.182204e-09,  1.120742e-10, -2.308153e-09,\n",
       "        3.849309e-09, -1.101602e-09, -1.380819e-09,  3.791728e-09,\n",
       "       -2.934354e-09, -5.548839e-10,  1.714991e-09, -4.294783e-09,\n",
       "        7.194080e-10,  9.058847e-10, -4.016061e-09,  2.596949e-09,\n",
       "       -3.721122e-11, -2.023830e-09,  4.053112e-09, -1.494950e-09])"
      ]
     },
     "execution_count": 4,
     "metadata": {},
     "output_type": "execute_result"
    }
   ],
   "source": [
    "sleep(1.5 * n_points * t_interval) # Wait for the buffer to fill: 1.5 * points * delay\n",
    "current_mes = sourcemeter.buffer_data"
   ]
  },
  {
   "cell_type": "code",
   "execution_count": null,
   "metadata": {},
   "outputs": [],
   "source": []
  }
 ],
 "metadata": {
  "kernelspec": {
   "display_name": "Python 3",
   "language": "python",
   "name": "python3"
  },
  "language_info": {
   "codemirror_mode": {
    "name": "ipython",
    "version": 3
   },
   "file_extension": ".py",
   "mimetype": "text/x-python",
   "name": "python",
   "nbconvert_exporter": "python",
   "pygments_lexer": "ipython3",
   "version": "3.7.1"
  }
 },
 "nbformat": 4,
 "nbformat_minor": 2
}
