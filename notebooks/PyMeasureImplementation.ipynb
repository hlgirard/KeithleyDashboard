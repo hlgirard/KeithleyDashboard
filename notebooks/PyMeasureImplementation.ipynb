{
 "cells": [
  {
   "cell_type": "code",
   "execution_count": 4,
   "metadata": {},
   "outputs": [],
   "source": [
    "# Measurement imports\n",
    "import pymeasure\n",
    "from pymeasure.adapters import PrologixAdapter\n",
    "from pymeasure.instruments.keithley import Keithley2400\n",
    "import time\n",
    "\n",
    "# Scientific package imports\n",
    "import numpy as np\n",
    "import pandas as pd\n",
    "import plotly as py\n",
    "import plotly.graph_objs as go"
   ]
  },
  {
   "cell_type": "code",
   "execution_count": 7,
   "metadata": {},
   "outputs": [
    {
     "data": {
      "text/plain": [
       "'KEITHLEY INSTRUMENTS INC.,MODEL 2400,1293432,C30   Mar 17 2006 09:29:29/A02  /K/J'"
      ]
     },
     "execution_count": 7,
     "metadata": {},
     "output_type": "execute_result"
    }
   ],
   "source": [
    "# Instrument connection\n",
    "def connect_to_sourcemeter(com_port, gpib_address):\n",
    "    ProAdapter = PrologixAdapter(com_port, address = gpib_address, serial_timeout= 0.1)\n",
    "    return Keithley2400(ProAdapter)\n",
    "\n",
    "scm = connect_to_sourcemeter('/dev/tty.usbserial-PXFDLVOK', 24)\n",
    "    \n",
    "scm.id # Test connection"
   ]
  },
  {
   "cell_type": "code",
   "execution_count": 8,
   "metadata": {},
   "outputs": [
    {
     "data": {
      "text/plain": [
       "'KEITHLEY INSTRUMENTS INC.,MODEL 2400,1293432,C30   Mar 17 2006 09:29:29/A02  /K/J'"
      ]
     },
     "execution_count": 8,
     "metadata": {},
     "output_type": "execute_result"
    }
   ],
   "source": [
    "scm.id"
   ]
  },
  {
   "cell_type": "code",
   "execution_count": 10,
   "metadata": {},
   "outputs": [
    {
     "data": {
      "text/plain": [
       "True"
      ]
     },
     "execution_count": 10,
     "metadata": {},
     "output_type": "execute_result"
    }
   ],
   "source": [
    "def is_connected(sourcemeter):\n",
    "    return sourcemeter.id.startswith(\"KEITHLEY\")\n",
    "\n",
    "is_connected(scm)"
   ]
  },
  {
   "cell_type": "code",
   "execution_count": 11,
   "metadata": {},
   "outputs": [],
   "source": [
    "def setup_current_measurement(sourcemeter, voltage, current_compliance):\n",
    "    sourcemeter.reset()\n",
    "    sourcemeter.apply_voltage(20, 0.1)\n",
    "    sourcemeter.measure_current(nplc=0.1, current=current_compliance, auto_range=False)\n",
    "    sourcemeter.source_voltage = voltage\n",
    "    sourcemeter.sample_continuously()\n",
    "\n",
    "setup_current_measurement(scm, 5, 0.1)"
   ]
  },
  {
   "cell_type": "code",
   "execution_count": 16,
   "metadata": {},
   "outputs": [
    {
     "data": {
      "application/vnd.jupyter.widget-view+json": {
       "model_id": "167c9548be1b405b8acc2104d0d209ad",
       "version_major": 2,
       "version_minor": 0
      },
      "text/plain": [
       "FigureWidget({\n",
       "    'data': [{'type': 'scatter', 'uid': 'f1920e3a-9753-4de3-8fec-32e5a2783d8b', 'x': [0], 'y': …"
      ]
     },
     "metadata": {},
     "output_type": "display_data"
    }
   ],
   "source": [
    "# Create a figure\n",
    "fig_cur = go.FigureWidget(\n",
    "    data = [go.Scatter(x=[0],y=[0])],\n",
    "    layout = go.Layout(\n",
    "        xaxis=dict(title='Time (s)', gridwidth=1, zeroline=False, ticklen=1, linecolor = 'black',linewidth = 2, mirror = True),\n",
    "        yaxis=dict(title='Current (A)', linecolor = 'black',linewidth = 2, mirror = True),\n",
    "        width=500,\n",
    "        height=500\n",
    "    )\n",
    ")\n",
    "fig_cur"
   ]
  },
  {
   "cell_type": "code",
   "execution_count": 17,
   "metadata": {},
   "outputs": [],
   "source": [
    "t_start = time.time()\n",
    "exp_length = 50 # seconds\n",
    "scm.enable_source()\n",
    "\n",
    "while True:\n",
    "    cTime = time.time()\n",
    "    cCurrent = scm.current\n",
    "    fig_cur.data[0]['x'] += (cTime - t_start,)\n",
    "    fig_cur.data[0]['y'] += (cCurrent,)\n",
    "    if cTime - t_start > exp_length:\n",
    "        break\n",
    "    \n",
    "scm.shutdown()"
   ]
  },
  {
   "cell_type": "code",
   "execution_count": null,
   "metadata": {},
   "outputs": [],
   "source": []
  }
 ],
 "metadata": {
  "kernelspec": {
   "display_name": "Python 3",
   "language": "python",
   "name": "python3"
  },
  "language_info": {
   "codemirror_mode": {
    "name": "ipython",
    "version": 3
   },
   "file_extension": ".py",
   "mimetype": "text/x-python",
   "name": "python",
   "nbconvert_exporter": "python",
   "pygments_lexer": "ipython3",
   "version": "3.7.1"
  }
 },
 "nbformat": 4,
 "nbformat_minor": 2
}
